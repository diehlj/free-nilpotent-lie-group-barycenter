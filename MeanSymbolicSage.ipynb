{
 "cells": [
  {
   "cell_type": "markdown",
   "id": "1dd43649-3904-4417-938c-9168efdc6054",
   "metadata": {},
   "source": [
    "# Sage notebook"
   ]
  },
  {
   "cell_type": "code",
   "execution_count": 4,
   "id": "be1f3207-cfbc-4a3a-b7ea-3b39078d2aef",
   "metadata": {},
   "outputs": [],
   "source": [
    "from sage.algebras.lie_algebras.bch import bch_iterator\n",
    "import numpy as np\n",
    "import re\n",
    "import time "
   ]
  },
  {
   "cell_type": "code",
   "execution_count": 5,
   "id": "be51e5e3-4ed5-43c0-aff8-d2bd7e592da8",
   "metadata": {},
   "outputs": [],
   "source": [
    "channels = 2  # d\n",
    "depth = 3  # L"
   ]
  },
  {
   "cell_type": "markdown",
   "id": "00f2b476",
   "metadata": {},
   "source": [
    "# Symbolic preprocessing "
   ]
  },
  {
   "cell_type": "code",
   "execution_count": 7,
   "id": "f5103a1a",
   "metadata": {},
   "outputs": [
    {
     "name": "stdout",
     "output_type": "stream",
     "text": [
      "5\n"
     ]
    }
   ],
   "source": [
    "Lbl = LieAlgebra(RR, channels, step=depth)\n",
    "basislength = len(Lbl.gens())\n",
    "print(basislength)"
   ]
  },
  {
   "cell_type": "code",
   "execution_count": 8,
   "id": "c8db64ce",
   "metadata": {
    "scrolled": true
   },
   "outputs": [
    {
     "name": "stdout",
     "output_type": "stream",
     "text": [
      "Multivariate Polynomial Ring in m0, m1, m2, m3, m4, m5, m6, m7, m8, m9 over Real Field with 53 bits of precision\n",
      "Free Nilpotent Lie algebra on 5 generators (1.00000000000000*X_1, 1.00000000000000*X_2, 1.00000000000000*X_12, 1.00000000000000*X_112, 1.00000000000000*X_122) over Multivariate Polynomial Ring in m0, m1, m2, m3, m4, m5, m6, m7, m8, m9 over Real Field with 53 bits of precision\n",
      "Defining X_1, X_2, X_12, X_112, X_122\n"
     ]
    }
   ],
   "source": [
    "R = PolynomialRing(RR, 2*basislength, 'm')\n",
    "m = R.gens()\n",
    "print(R)\n",
    "L = LieAlgebra(PolynomialRing(RR, 2*basislength, 'm'), channels, step=depth)\n",
    "print(L)\n",
    "L.inject_variables()"
   ]
  },
  {
   "cell_type": "code",
   "execution_count": 9,
   "id": "7a792950",
   "metadata": {},
   "outputs": [
    {
     "data": {
      "text/plain": [
       "m5*X_1 + m6*X_2 + m7*X_12 + m8*X_112 + m9*X_122"
      ]
     },
     "execution_count": 9,
     "metadata": {},
     "output_type": "execute_result"
    }
   ],
   "source": [
    "logSXn = L.from_vector(vector(R, m[basislength:]))   # x^(j) (so be summed over)\n",
    "logSXn"
   ]
  },
  {
   "cell_type": "code",
   "execution_count": 10,
   "id": "924bff75",
   "metadata": {},
   "outputs": [
    {
     "data": {
      "text/plain": [
       "(-m0)*X_1 + (-m1)*X_2 + (-m2)*X_12 + (-m3)*X_112 + (-m4)*X_122"
      ]
     },
     "execution_count": 10,
     "metadata": {},
     "output_type": "execute_result"
    }
   ],
   "source": [
    "y = -L.from_vector(vector(R, m[:basislength]))  # y is inverse of mean (m symbols, to be computed)\n",
    "y"
   ]
  },
  {
   "cell_type": "code",
   "execution_count": 11,
   "id": "0d325f0f",
   "metadata": {},
   "outputs": [
    {
     "data": {
      "text/plain": [
       "(-m0+m5)*X_1 + (-m1+m6)*X_2 + (0.500000000000000*m1*m5-0.500000000000000*m0*m6-m2+m7)*X_12 + (-0.0833333333333333*m0*m1*m5-0.0833333333333333*m1*m5^2+0.0833333333333333*m0^2*m6+0.0833333333333333*m0*m5*m6+0.500000000000000*m2*m5-0.500000000000000*m0*m7-m3+m8)*X_112 + (0.0833333333333333*m1^2*m5-0.0833333333333333*m0*m1*m6+0.0833333333333333*m1*m5*m6-0.0833333333333333*m0*m6^2-0.500000000000000*m2*m6+0.500000000000000*m1*m7-m4+m9)*X_122"
      ]
     },
     "execution_count": 11,
     "metadata": {},
     "output_type": "execute_result"
    }
   ],
   "source": [
    "S = sum([Z for Z in bch_iterator(y, logSXn)])   # symbolic BCH formula \n",
    "S"
   ]
  },
  {
   "cell_type": "code",
   "execution_count": 12,
   "id": "cfca712c",
   "metadata": {},
   "outputs": [
    {
     "data": {
      "text/plain": [
       "{(1,): -m0 + m5,\n",
       " (2,): -m1 + m6,\n",
       " (1, 2): 0.500000000000000*m1*m5 - 0.500000000000000*m0*m6 - m2 + m7,\n",
       " (1,\n",
       "  1,\n",
       "  2): -0.0833333333333333*m0*m1*m5 - 0.0833333333333333*m1*m5^2 + 0.0833333333333333*m0^2*m6 + 0.0833333333333333*m0*m5*m6 + 0.500000000000000*m2*m5 - 0.500000000000000*m0*m7 - m3 + m8,\n",
       " (1,\n",
       "  2,\n",
       "  2): 0.0833333333333333*m1^2*m5 - 0.0833333333333333*m0*m1*m6 + 0.0833333333333333*m1*m5*m6 - 0.0833333333333333*m0*m6^2 - 0.500000000000000*m2*m6 + 0.500000000000000*m1*m7 - m4 + m9}"
      ]
     },
     "execution_count": 12,
     "metadata": {},
     "output_type": "execute_result"
    }
   ],
   "source": [
    "Sdic = S.monomial_coefficients()       # apply dual basis (coefficients of lyndon basis elements)\n",
    "Sdic"
   ]
  },
  {
   "cell_type": "code",
   "execution_count": 13,
   "id": "f33ae203",
   "metadata": {},
   "outputs": [
    {
     "data": {
      "text/plain": [
       "[m5,\n",
       " m6,\n",
       " 0.500000000000000*m1*m5 - 0.500000000000000*m0*m6 + m7,\n",
       " -0.0833333333333333*m0*m1*m5 - 0.0833333333333333*m1*m5^2 + 0.0833333333333333*m0^2*m6 + 0.0833333333333333*m0*m5*m6 + 0.500000000000000*m2*m5 - 0.500000000000000*m0*m7 + m8,\n",
       " 0.0833333333333333*m1^2*m5 - 0.0833333333333333*m0*m1*m6 + 0.0833333333333333*m1*m5*m6 - 0.0833333333333333*m0*m6^2 - 0.500000000000000*m2*m6 + 0.500000000000000*m1*m7 + m9]"
      ]
     },
     "execution_count": 13,
     "metadata": {},
     "output_type": "execute_result"
    }
   ],
   "source": [
    "Sval = list(Sdic.values())                # derive polynomials \n",
    "for i in range(len(Sval)):\n",
    "    Sval[i] += m[i]\n",
    "Sval"
   ]
  },
  {
   "cell_type": "code",
   "execution_count": 14,
   "id": "06282927",
   "metadata": {},
   "outputs": [],
   "source": [
    "def string_preproc(st_poly):\n",
    "    result = re.sub(r'\\^', '**',   st_poly)\n",
    "    result = re.sub(r'()m([0-9]*)()', r'\\1m[\\2]\\3', result)\n",
    "    return \"lambda m : \"+result"
   ]
  },
  {
   "cell_type": "code",
   "execution_count": 15,
   "id": "6c442ae9",
   "metadata": {},
   "outputs": [
    {
     "data": {
      "text/plain": [
       "['lambda m : m[5]',\n",
       " 'lambda m : m[6]',\n",
       " 'lambda m : 0.500000000000000*m[1]*m[5] - 0.500000000000000*m[0]*m[6] + m[7]',\n",
       " 'lambda m : -0.0833333333333333*m[0]*m[1]*m[5] - 0.0833333333333333*m[1]*m[5]**2 + 0.0833333333333333*m[0]**2*m[6] + 0.0833333333333333*m[0]*m[5]*m[6] + 0.500000000000000*m[2]*m[5] - 0.500000000000000*m[0]*m[7] + m[8]',\n",
       " 'lambda m : 0.0833333333333333*m[1]**2*m[5] - 0.0833333333333333*m[0]*m[1]*m[6] + 0.0833333333333333*m[1]*m[5]*m[6] - 0.0833333333333333*m[0]*m[6]**2 - 0.500000000000000*m[2]*m[6] + 0.500000000000000*m[1]*m[7] + m[9]']"
      ]
     },
     "execution_count": 15,
     "metadata": {},
     "output_type": "execute_result"
    }
   ],
   "source": [
    "outp_0 = [string_preproc(str(a)) for a in Sval]\n",
    "outp_0\n"
   ]
  },
  {
   "cell_type": "code",
   "execution_count": 16,
   "id": "65c7f919",
   "metadata": {},
   "outputs": [
    {
     "data": {
      "text/plain": [
       "[<function <lambda> at 0x165267be0>,\n",
       " <function <lambda> at 0x165394040>,\n",
       " <function <lambda> at 0x1653940d0>,\n",
       " <function <lambda> at 0x165394160>,\n",
       " <function <lambda> at 0x1653941f0>]"
      ]
     },
     "execution_count": 16,
     "metadata": {},
     "output_type": "execute_result"
    }
   ],
   "source": [
    "outp = [eval(a) for a in outp_0]\n",
    "outp"
   ]
  },
  {
   "cell_type": "markdown",
   "id": "b9a1e814",
   "metadata": {},
   "source": [
    "# Loading the data"
   ]
  },
  {
   "cell_type": "code",
   "execution_count": 17,
   "id": "ec982305",
   "metadata": {},
   "outputs": [],
   "source": [
    "logSX = np.load('./data.npy')\n",
    "N = logSX.shape[0]"
   ]
  },
  {
   "cell_type": "markdown",
   "id": "763b2ad1",
   "metadata": {},
   "source": [
    "# Evaluation group mean"
   ]
  },
  {
   "cell_type": "code",
   "execution_count": 18,
   "id": "1f1943c6",
   "metadata": {},
   "outputs": [
    {
     "name": "stdout",
     "output_type": "stream",
     "text": [
      "0.002259969711303711\n",
      "[ 0.03478179 -0.20569871 -0.00655954 -0.00063188  0.00107996]\n"
     ]
    }
   ],
   "source": [
    "start_time = time.time()\n",
    "res = np.zeros(basislength)\n",
    "for k in range(basislength):\n",
    "    res[k] = np.sum(outp[k](list(res)+[logSX[:,_k] for _k in range(basislength) ]))/N\n",
    "print(time.time() - start_time)\n",
    "print(res)"
   ]
  },
  {
   "cell_type": "code",
   "execution_count": null,
   "id": "b935ce0f",
   "metadata": {},
   "outputs": [],
   "source": []
  },
  {
   "cell_type": "code",
   "execution_count": null,
   "id": "602335d0",
   "metadata": {},
   "outputs": [],
   "source": []
  }
 ],
 "metadata": {
  "kernelspec": {
   "display_name": "SageMath 9.7",
   "language": "sage",
   "name": "sagemath-9.7"
  },
  "language_info": {
   "codemirror_mode": {
    "name": "ipython",
    "version": 3
   },
   "file_extension": ".py",
   "mimetype": "text/x-python",
   "name": "python",
   "nbconvert_exporter": "python",
   "pygments_lexer": "ipython3",
   "version": "3.10.5"
  }
 },
 "nbformat": 4,
 "nbformat_minor": 5
}
