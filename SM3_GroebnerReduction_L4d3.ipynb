{
 "cells": [
  {
   "cell_type": "code",
   "execution_count": 110,
   "metadata": {},
   "outputs": [],
   "source": [
    "from sage.algebras.lie_algebras.bch import bch_iterator\n",
    "import numpy as np\n",
    "import re\n",
    "import time "
   ]
  },
  {
   "cell_type": "code",
   "execution_count": 111,
   "metadata": {},
   "outputs": [],
   "source": [
    "d = 3\n",
    "L = 4\n",
    "Lbl = LieAlgebra(QQ, d, step=L)\n",
    "B = len(Lbl.gens())"
   ]
  },
  {
   "cell_type": "code",
   "execution_count": 112,
   "metadata": {},
   "outputs": [],
   "source": [
    "R = PolynomialRing(QQ, 2*B, 'm')\n",
    "m = R.gens()"
   ]
  },
  {
   "cell_type": "code",
   "execution_count": 113,
   "metadata": {},
   "outputs": [],
   "source": [
    "def rNF(p,V):\n",
    "    if p == 0:\n",
    "        return 0\n",
    "    r = p\n",
    "    for t in range(len(V)):\n",
    "        if r.lm() == lcm(r.lm(), V[t].lm()):\n",
    "            a = r.lm()//V[t].lm()\n",
    "            if 1 == gcd(a,prod([m[i] for i in range(0,B)])):\n",
    "                r = rNF(r - r.lc()/V[t].lc()*a*V[t],V)\n",
    "        if r == 0:\n",
    "            return 0\n",
    "    return r.lt() + rNF(r - r.lt(), V)"
   ]
  },
  {
   "cell_type": "code",
   "execution_count": 114,
   "metadata": {},
   "outputs": [],
   "source": [
    "def Buchberger(F):\n",
    "    lenF = len(F)\n",
    "    for i in range(len(F)):\n",
    "        for j in range(i,len(F)): \n",
    "            lcm_gh = lcm(F[i].lm(),F[j].lm())\n",
    "            bi = (lcm_gh == lcm(lcm_gh, F[i].lm()))    \n",
    "            bj = (lcm_gh == lcm(lcm_gh, F[j].lm()))\n",
    "            ai = lcm_gh//F[i].lm()\n",
    "            aj = lcm_gh//F[j].lm()\n",
    "            b2i = (1 == gcd(ai,prod([m[t] for t in range(0,B)])))\n",
    "            b2j = (1 == gcd(aj,prod([m[t] for t in range(0,B)])))\n",
    "            if (bi and bj and b2i and b2j):\n",
    "                r = rNF(F[i]*ai/F[i].lc() - F[j]*aj/F[j].lc(),F)\n",
    "                if not (r == 0):\n",
    "                    F = F + [r/r.lc()]\n",
    "    if not (lenF == len(F)):\n",
    "        return Buchberger(F)\n",
    "    return F"
   ]
  },
  {
   "cell_type": "code",
   "execution_count": 115,
   "metadata": {},
   "outputs": [],
   "source": [
    "def interReduce(F):\n",
    "    lenF = len(F) \n",
    "    for i in range(lenF):\n",
    "        if (i < len(F)):\n",
    "            F[i] = rNF(F[i],F[:i]+F[i+1:])\n",
    "            F = list(filter(lambda k: not (k == 0),F))\n",
    "    if lenF == len(F):\n",
    "        return F\n",
    "    return interReduce(F)"
   ]
  },
  {
   "cell_type": "code",
   "execution_count": 116,
   "metadata": {},
   "outputs": [],
   "source": [
    "def poly2latex(_p):\n",
    "    res = re.sub(r'()m([0-9]*)()', r'\\1m_{\\2}\\3', str(_p))\n",
    "    res = re.sub(r'()([0-9]*)/([0-9]*)()', r'\\1frac{\\2}{\\3}\\4', res)\n",
    "    for i in range(2*B-1,B-1,-1):\n",
    "        res = res.replace(\"m_{\"+str(i),\"M_{\"+str(i+1-B))\n",
    "    for i in range(B-1,-1,-1):\n",
    "        res = res.replace(\"m_{\"+str(i),\"C_{\"+str(i+1))\n",
    "    res = res.replace(\"*\",\"\")\n",
    "    return res\n",
    "\n",
    "def poly2human(_p):\n",
    "    res = str(_p)\n",
    "    for i in range(2*B-1,B-1,-1):\n",
    "        res = res.replace(\"m\"+str(i),\"M\"+str(i+1-B))\n",
    "    for i in range(B-1,-1,-1):\n",
    "        res = res.replace(\"m\"+str(i),\"C\"+str(i+1))\n",
    "    return res\n",
    "\n",
    "def poly2pythonEx(st_poly):\n",
    "    res = re.sub(r'\\^', '**',   str(st_poly))\n",
    "    res = re.sub(r'()m([0-9]*)()', r'\\1m[\\2]\\3', res)\n",
    "    return \"lambda m : \"+res"
   ]
  },
  {
   "cell_type": "code",
   "execution_count": 117,
   "metadata": {},
   "outputs": [
    {
     "name": "stdout",
     "output_type": "stream",
     "text": [
      "Defining X_1, X_2, X_3, X_12, X_13, X_23, X_112, X_113, X_122, X_123, X_132, X_133, X_223, X_233, X_1112, X_1113, X_1122, X_1123, X_1132, X_1133, X_1213, X_1222, X_1223, X_1232, X_1233, X_1322, X_1323, X_1332, X_1333, X_2223, X_2233, X_2333\n"
     ]
    }
   ],
   "source": [
    "LieAlg = LieAlgebra(PolynomialRing(QQ, 2*B, 'm'), d, step=L)\n",
    "LieAlg.inject_variables()\n",
    "\n",
    "logSXn = LieAlg.from_vector(vector(R, m[:B]))\n",
    "y = -LieAlg.from_vector(vector(R, m[B:]))\n",
    "S = sum([Z for Z in bch_iterator(y, logSXn)])\n",
    "q = S.monomial_coefficients()\n",
    "q = list(q.values())                # derive polynomials "
   ]
  },
  {
   "cell_type": "code",
   "execution_count": 118,
   "metadata": {},
   "outputs": [
    {
     "data": {
      "text/plain": [
       "('C1', 'M1', 'M1*M2 + C1 + C2 + M1')"
      ]
     },
     "execution_count": 118,
     "metadata": {},
     "output_type": "execute_result"
    }
   ],
   "source": [
    "poly2human(m[0]), poly2human(m[B]) ,poly2human(m[0]+m[1]+m[B]+m[0+B]*m[1+B])\n"
   ]
  },
  {
   "cell_type": "code",
   "execution_count": 119,
   "metadata": {},
   "outputs": [
    {
     "data": {
      "text/plain": [
       "['C1 - M1',\n",
       " 'C2 - M2',\n",
       " 'C3 - M3',\n",
       " '-1/2*C2*M1 + 1/2*C1*M2 + C4 - M4',\n",
       " '-1/2*C3*M1 + 1/2*C1*M3 + C5 - M5',\n",
       " '-1/2*C3*M2 + 1/2*C2*M3 + C6 - M6',\n",
       " '1/12*C1*C2*M1 + 1/12*C2*M1^2 - 1/12*C1^2*M2 - 1/12*C1*M1*M2 - 1/2*C4*M1 + 1/2*C1*M4 + C7 - M7',\n",
       " '1/12*C1*C3*M1 + 1/12*C3*M1^2 - 1/12*C1^2*M3 - 1/12*C1*M1*M3 - 1/2*C5*M1 + 1/2*C1*M5 + C8 - M8',\n",
       " '-1/12*C2^2*M1 + 1/12*C1*C2*M2 - 1/12*C2*M1*M2 + 1/12*C1*M2^2 + 1/2*C4*M2 - 1/2*C2*M4 + C9 - M9',\n",
       " '-1/12*C2*C3*M1 + 1/6*C1*C3*M2 + 1/12*C3*M1*M2 - 1/12*C1*C2*M3 - 1/6*C2*M1*M3 + 1/12*C1*M2*M3 - 1/2*C6*M1 + 1/2*C4*M3 - 1/2*C3*M4 + 1/2*C1*M6 + C10 - M10',\n",
       " '-1/6*C2*C3*M1 + 1/12*C1*C3*M2 - 1/12*C3*M1*M2 + 1/12*C1*C2*M3 - 1/12*C2*M1*M3 + 1/6*C1*M2*M3 + 1/2*C5*M2 + 1/2*C4*M3 - 1/2*C3*M4 - 1/2*C2*M5 + C11 - M11',\n",
       " '-1/12*C3^2*M1 + 1/12*C1*C3*M3 - 1/12*C3*M1*M3 + 1/12*C1*M3^2 + 1/2*C5*M3 - 1/2*C3*M5 + C12 - M12',\n",
       " '1/12*C2*C3*M2 + 1/12*C3*M2^2 - 1/12*C2^2*M3 - 1/12*C2*M2*M3 - 1/2*C6*M2 + 1/2*C2*M6 + C13 - M13',\n",
       " '-1/12*C3^2*M2 + 1/12*C2*C3*M3 - 1/12*C3*M2*M3 + 1/12*C2*M3^2 + 1/2*C6*M3 - 1/2*C3*M6 + C14 - M14',\n",
       " '-1/24*C1*C2*M1^2 + 1/24*C1^2*M1*M2 + 1/12*C1*C4*M1 + 1/12*C4*M1^2 - 1/12*C1^2*M4 - 1/12*C1*M1*M4 - 1/2*C7*M1 + 1/2*C1*M7 + C15 - M15',\n",
       " '-1/24*C1*C3*M1^2 + 1/24*C1^2*M1*M3 + 1/12*C1*C5*M1 + 1/12*C5*M1^2 - 1/12*C1^2*M5 - 1/12*C1*M1*M5 - 1/2*C8*M1 + 1/2*C1*M8 + C16 - M16',\n",
       " '1/24*C2^2*M1^2 - 1/24*C1^2*M2^2 - 1/12*C2*C4*M1 - 1/12*C1*C4*M2 - 1/6*C4*M1*M2 + 1/6*C1*C2*M4 + 1/12*C2*M1*M4 + 1/12*C1*M2*M4 - 1/2*C9*M1 + 1/2*C7*M2 - 1/2*C2*M7 + 1/2*C1*M9 + C17 - M17',\n",
       " '1/24*C2*C3*M1^2 - 1/12*C1*C3*M1*M2 + 1/12*C1*C2*M1*M3 - 1/24*C1^2*M2*M3 - 1/12*C3*C4*M1 + 1/12*C1*C6*M1 + 1/12*C6*M1^2 - 1/12*C1*C4*M3 - 1/6*C4*M1*M3 + 1/6*C1*C3*M4 + 1/12*C3*M1*M4 + 1/12*C1*M3*M4 - 1/12*C1^2*M6 - 1/12*C1*M1*M6 - 1/2*C10*M1 + 1/2*C7*M3 - 1/2*C3*M7 + 1/2*C1*M10 + C18 - M18',\n",
       " '1/12*C2*C3*M1^2 - 1/12*C1^2*M2*M3 - 1/12*C3*C4*M1 - 1/12*C2*C5*M1 - 1/12*C1*C5*M2 - 1/6*C5*M1*M2 - 1/12*C1*C4*M3 - 1/6*C4*M1*M3 + 1/6*C1*C3*M4 + 1/12*C3*M1*M4 + 1/12*C1*M3*M4 + 1/6*C1*C2*M5 + 1/12*C2*M1*M5 + 1/12*C1*M2*M5 - 1/2*C11*M1 + 1/2*C8*M2 + 1/2*C7*M3 - 1/2*C3*M7 - 1/2*C2*M8 + 1/2*C1*M11 + C19 - M19',\n",
       " '1/24*C3^2*M1^2 - 1/24*C1^2*M3^2 - 1/12*C3*C5*M1 - 1/12*C1*C5*M3 - 1/6*C5*M1*M3 + 1/6*C1*C3*M5 + 1/12*C3*M1*M5 + 1/12*C1*M3*M5 - 1/2*C12*M1 + 1/2*C8*M3 - 1/2*C3*M8 + 1/2*C1*M12 + C20 - M20',\n",
       " '1/24*C1*C3*M1*M2 - 1/24*C1*C2*M1*M3 + 1/6*C3*C4*M1 - 1/6*C2*C5*M1 + 1/12*C1*C5*M2 - 1/12*C5*M1*M2 - 1/12*C1*C4*M3 + 1/12*C4*M1*M3 - 1/12*C1*C3*M4 + 1/12*C3*M1*M4 - 1/6*C1*M3*M4 + 1/12*C1*C2*M5 - 1/12*C2*M1*M5 + 1/6*C1*M2*M5 + 1/2*C8*M2 - 1/2*C7*M3 - 1/2*C5*M4 + 1/2*C4*M5 + 1/2*C3*M7 - 1/2*C2*M8 + C21 - M21',\n",
       " '-1/24*C2^2*M1*M2 + 1/24*C1*C2*M2^2 + 1/12*C2*C4*M2 + 1/12*C4*M2^2 - 1/12*C2^2*M4 - 1/12*C2*M2*M4 + 1/2*C9*M2 - 1/2*C2*M9 + C22 - M22',\n",
       " '-1/24*C2*C3*M1*M2 + 1/24*C1*C2*M2*M3 - 1/12*C2*C6*M1 + 1/6*C3*C4*M2 + 1/6*C1*C6*M2 + 1/12*C6*M1*M2 - 1/12*C2*C4*M3 + 1/12*C4*M2*M3 - 1/12*C2*C3*M4 + 1/12*C3*M2*M4 - 1/6*C2*M3*M4 - 1/12*C1*C2*M6 - 1/6*C2*M1*M6 + 1/12*C1*M2*M6 - 1/2*C13*M1 + 1/2*C9*M3 - 1/2*C6*M4 + 1/2*C4*M6 - 1/2*C3*M9 + 1/2*C1*M13 + C23 - M23',\n",
       " '-1/24*C2*C3*M1*M2 + 1/12*C1*C3*M2^2 - 1/12*C2^2*M1*M3 + 1/24*C1*C2*M2*M3 - 1/6*C2*C6*M1 + 1/4*C3*C4*M2 + 1/12*C1*C6*M2 - 1/12*C6*M1*M2 + 1/4*C4*M2*M3 - 1/4*C2*C3*M4 - 1/4*C2*M3*M4 + 1/12*C1*C2*M6 - 1/12*C2*M1*M6 + 1/6*C1*M2*M6 + 1/2*C10*M2 + C9*M3 - 1/2*C6*M4 + 1/2*C4*M6 - C3*M9 - 1/2*C2*M10 + C24 - M24',\n",
       " '1/24*C3^2*M1*M2 - 1/12*C2*C3*M1*M3 + 1/12*C1*C3*M2*M3 - 1/24*C1*C2*M3^2 - 1/12*C3*C6*M1 + 1/12*C3*C4*M3 - 1/12*C1*C6*M3 - 1/6*C6*M1*M3 + 1/12*C4*M3^2 - 1/12*C3^2*M4 - 1/12*C3*M3*M4 + 1/6*C1*C3*M6 + 1/12*C3*M1*M6 + 1/12*C1*M3*M6 - 1/2*C14*M1 + 1/2*C10*M3 - 1/2*C3*M10 + 1/2*C1*M14 + C25 - M25',\n",
       " '-1/12*C2*C3*M1*M2 + 1/24*C1*C3*M2^2 - 1/24*C2^2*M1*M3 + 1/12*C1*C2*M2*M3 + 1/12*C3*C4*M2 + 1/12*C2*C5*M2 + 1/12*C5*M2^2 + 1/12*C2*C4*M3 + 1/6*C4*M2*M3 - 1/6*C2*C3*M4 - 1/12*C3*M2*M4 - 1/12*C2*M3*M4 - 1/12*C2^2*M5 - 1/12*C2*M2*M5 + 1/2*C11*M2 + 1/2*C9*M3 - 1/2*C3*M9 - 1/2*C2*M11 + C26 - M26',\n",
       " '-1/8*C2*C3*M1*M3 + 1/8*C1*C3*M2*M3 - 1/6*C3*C6*M1 + 1/6*C3*C5*M2 + 1/6*C3*C4*M3 - 1/12*C2*C5*M3 + 1/12*C1*C6*M3 - 1/12*C6*M1*M3 + 1/12*C5*M2*M3 + 1/6*C4*M3^2 - 1/6*C3^2*M4 - 1/6*C3*M3*M4 - 1/12*C2*C3*M5 + 1/12*C3*M2*M5 - 1/6*C2*M3*M5 + 1/12*C1*C3*M6 - 1/12*C3*M1*M6 + 1/6*C1*M3*M6 + 1/2*C10*M3 + 1/2*C11*M3 - 1/2*C6*M5 + 1/2*C5*M6 - 1/2*C3*M10 - 1/2*C3*M11 + C27 - M27',\n",
       " '-1/24*C3^2*M1*M2 - 1/12*C2*C3*M1*M3 + 1/12*C1*C3*M2*M3 + 1/24*C1*C2*M3^2 + 1/12*C3*C5*M2 + 1/12*C3*C4*M3 + 1/12*C2*C5*M3 + 1/6*C5*M2*M3 + 1/12*C4*M3^2 - 1/12*C3^2*M4 - 1/12*C3*M3*M4 - 1/6*C2*C3*M5 - 1/12*C3*M2*M5 - 1/12*C2*M3*M5 + 1/2*C12*M2 + 1/2*C11*M3 - 1/2*C3*M11 - 1/2*C2*M12 + C28 - M28',\n",
       " '-1/24*C3^2*M1*M3 + 1/24*C1*C3*M3^2 + 1/12*C3*C5*M3 + 1/12*C5*M3^2 - 1/12*C3^2*M5 - 1/12*C3*M3*M5 + 1/2*C12*M3 - 1/2*C3*M12 + C29 - M29',\n",
       " '-1/24*C2*C3*M2^2 + 1/24*C2^2*M2*M3 + 1/12*C2*C6*M2 + 1/12*C6*M2^2 - 1/12*C2^2*M6 - 1/12*C2*M2*M6 - 1/2*C13*M2 + 1/2*C2*M13 + C30 - M30',\n",
       " '1/24*C3^2*M2^2 - 1/24*C2^2*M3^2 - 1/12*C3*C6*M2 - 1/12*C2*C6*M3 - 1/6*C6*M2*M3 + 1/6*C2*C3*M6 + 1/12*C3*M2*M6 + 1/12*C2*M3*M6 - 1/2*C14*M2 + 1/2*C13*M3 - 1/2*C3*M13 + 1/2*C2*M14 + C31 - M31',\n",
       " '-1/24*C3^2*M2*M3 + 1/24*C2*C3*M3^2 + 1/12*C3*C6*M3 + 1/12*C6*M3^2 - 1/12*C3^2*M6 - 1/12*C3*M3*M6 + 1/2*C14*M3 - 1/2*C3*M14 + C32 - M32']"
      ]
     },
     "execution_count": 119,
     "metadata": {},
     "output_type": "execute_result"
    }
   ],
   "source": [
    "[poly2human(qj) for qj in q]\n",
    "#[poly2latex(qj) for qj in q]"
   ]
  },
  {
   "cell_type": "code",
   "execution_count": 124,
   "metadata": {},
   "outputs": [
    {
     "name": "stdout",
     "output_type": "stream",
     "text": [
      "19\n",
      "-1/12*C3*C4*M1 + 1/12*C1*C6*M1 - 1/12*C1*C4*M3 + 1/6*C1*C3*M4 - 1/12*C1^2*M6 - 2/3*C10*M1 + 1/3*C11*M1 + C8*M2 - C7*M3 + M3*M7 - M2*M8 + 2/3*M1*M10 - 1/3*M1*M11 + C18 - M18\n",
      "-1/12*C2*C5*M1 - 1/12*C1*C6*M1 - 1/12*C1*C5*M2 + 1/6*C1*C2*M5 + 1/12*C1^2*M6 + 1/3*C10*M1 - 1/6*C11*M1 - 1/2*C8*M2 + 1/2*C7*M3 - 1/2*M3*M7 + 1/2*M2*M8 - 1/3*M1*M10 + 1/6*M1*M11 - C18 + C19 + M18 - M19\n"
     ]
    },
    {
     "data": {
      "text/plain": [
       "['C1 - M1',\n",
       " 'C2 - M2',\n",
       " 'C3 - M3',\n",
       " 'C4 - M4',\n",
       " 'C5 - M5',\n",
       " 'C6 - M6',\n",
       " '1/12*C1*C2*M1 - 1/12*C1^2*M2 + C7 - M7',\n",
       " '1/12*C1*C3*M1 - 1/12*C1^2*M3 + C8 - M8',\n",
       " '-1/12*C2^2*M1 + 1/12*C1*C2*M2 + C9 - M9',\n",
       " '1/8*C1*C3*M2 - 1/8*C1*C2*M3 + C10 - 1/2*C11 - M10 + 1/2*M11',\n",
       " '-1/6*C2*C3*M1 + 1/6*C1*C2*M3 - 2/3*C10 + 4/3*C11 + 2/3*M10 - 4/3*M11',\n",
       " '-1/12*C3^2*M1 + 1/12*C1*C3*M3 + C12 - M12',\n",
       " '1/12*C2*C3*M2 - 1/12*C2^2*M3 + C13 - M13',\n",
       " '-1/12*C3^2*M2 + 1/12*C2*C3*M3 + C14 - M14',\n",
       " '1/12*C1*C4*M1 - 1/12*C1^2*M4 + C15 - M15',\n",
       " '1/12*C1*C5*M1 - 1/12*C1^2*M5 + C16 - M16',\n",
       " '-1/12*C2*C4*M1 - 1/12*C1*C4*M2 + 1/6*C1*C2*M4 + C17 - M17',\n",
       " '-1/12*C3*C4*M1 + 1/12*C1*C6*M1 - 1/12*C1*C4*M3 + 1/6*C1*C3*M4 - 1/12*C1^2*M6 - 2/3*C10*M1 + 1/3*C11*M1 + C8*M2 - C7*M3 + M3*M7 - M2*M8 + 2/3*M1*M10 - 1/3*M1*M11 + C18 - M18',\n",
       " '-1/12*C2*C5*M1 - 1/12*C1*C6*M1 - 1/12*C1*C5*M2 + 1/6*C1*C2*M5 + 1/12*C1^2*M6 + 1/3*C10*M1 - 1/6*C11*M1 - 1/2*C8*M2 + 1/2*C7*M3 - 1/2*M3*M7 + 1/2*M2*M8 - 1/3*M1*M10 + 1/6*M1*M11 - C18 + C19 + M18 - M19']"
      ]
     },
     "execution_count": 124,
     "metadata": {},
     "output_type": "execute_result"
    }
   ],
   "source": [
    "h1_19 = interReduce(q[:19])\n",
    "print(len(h1_19))\n",
    "print(poly2human(h1_19[17]))\n",
    "print(poly2human(h1_19[18]))\n",
    "[poly2human(qj) for qj in h1_19]"
   ]
  },
  {
   "cell_type": "code",
   "execution_count": 128,
   "metadata": {},
   "outputs": [
    {
     "name": "stdout",
     "output_type": "stream",
     "text": [
      "22\n",
      "-1/12*C2*C5*M1 - 1/12*C1*C6*M1 - 1/12*C1*C5*M2 + 1/6*C1*C2*M5 + 1/12*C1^2*M6 + 1/3*C10*M1 - 1/6*C11*M1 - 1/2*C8*M2 + 1/2*C7*M3 - 1/2*M3*M7 + 1/2*M2*M8 - 1/3*M1*M10 + 1/6*M1*M11 - C18 + C19 + M18 - M19\n"
     ]
    },
    {
     "data": {
      "text/plain": [
       "['C1 - M1',\n",
       " 'C2 - M2',\n",
       " 'C3 - M3',\n",
       " 'C4 - M4',\n",
       " 'C5 - M5',\n",
       " 'C6 - M6',\n",
       " '1/12*C1*C2*M1 - 1/12*C1^2*M2 + C7 - M7',\n",
       " '1/12*C1*C3*M1 - 1/12*C1^2*M3 + C8 - M8',\n",
       " '-1/12*C2^2*M1 + 1/12*C1*C2*M2 + C9 - M9',\n",
       " '1/8*C1*C3*M2 - 1/8*C1*C2*M3 + C10 - 1/2*C11 - M10 + 1/2*M11',\n",
       " '-1/6*C2*C3*M1 + 1/6*C1*C2*M3 - 2/3*C10 + 4/3*C11 + 2/3*M10 - 4/3*M11',\n",
       " '-1/12*C3^2*M1 + 1/12*C1*C3*M3 + C12 - M12',\n",
       " '1/12*C2*C3*M2 - 1/12*C2^2*M3 + C13 - M13',\n",
       " '-1/12*C3^2*M2 + 1/12*C2*C3*M3 + C14 - M14',\n",
       " '1/12*C1*C4*M1 - 1/12*C1^2*M4 + C15 - M15',\n",
       " '1/12*C1*C5*M1 - 1/12*C1^2*M5 + C16 - M16',\n",
       " '-1/12*C2*C4*M1 - 1/12*C1*C4*M2 + 1/6*C1*C2*M4 + C17 - M17',\n",
       " '-1/12*C3*C4*M1 + 1/12*C1*C6*M1 - 1/12*C1*C4*M3 + 1/6*C1*C3*M4 - 1/12*C1^2*M6 - 2/3*C10*M1 + 1/3*C11*M1 + C8*M2 - C7*M3 + M3*M7 - M2*M8 + 2/3*M1*M10 - 1/3*M1*M11 + C18 - M18',\n",
       " '-1/12*C2*C5*M1 - 1/12*C1*C6*M1 - 1/12*C1*C5*M2 + 1/6*C1*C2*M5 + 1/12*C1^2*M6 + 1/3*C10*M1 - 1/6*C11*M1 - 1/2*C8*M2 + 1/2*C7*M3 - 1/2*M3*M7 + 1/2*M2*M8 - 1/3*M1*M10 + 1/6*M1*M11 - C18 + C19 + M18 - M19',\n",
       " 'C10*M1 - 1/2*C11*M1 - 3/2*C8*M2 + 3/2*C7*M3 - 3/2*M3*M7 + 3/2*M2*M8 - M1*M10 + 1/2*M1*M11',\n",
       " 'C13*M1 - 1/3*C10*M2 + 2/3*C11*M2 - C9*M3 + M3*M9 + 1/3*M2*M10 - 2/3*M2*M11 - M1*M13',\n",
       " 'C14*M1 - C12*M2 + 1/3*C10*M3 + 1/3*C11*M3 - 1/3*M3*M10 - 1/3*M3*M11 + M2*M12 - M1*M14']"
      ]
     },
     "execution_count": 128,
     "metadata": {},
     "output_type": "execute_result"
    }
   ],
   "source": [
    "G19 = Buchberger(h1_19)\n",
    "print(len(G19))\n",
    "g19 = G19[18]\n",
    "print(poly2human(g19))\n",
    "[poly2human(qj) for qj in G19]"
   ]
  },
  {
   "cell_type": "code",
   "execution_count": 130,
   "metadata": {},
   "outputs": [
    {
     "data": {
      "text/plain": [
       "'-1/12*C3*C4*M1 - 1/12*C2*C5*M1 - 1/12*C1*C5*M2 - 1/12*C1*C4*M3 + 1/6*C1*C3*M4 + 1/6*C1*C2*M5 + C19 - M19'"
      ]
     },
     "execution_count": 130,
     "metadata": {},
     "output_type": "execute_result"
    }
   ],
   "source": [
    "G17 = Buchberger(q[:17])\n",
    "q19 = q[18]\n",
    "s19 = rNF(q19,G17)\n",
    "poly2human(s19)"
   ]
  },
  {
   "cell_type": "code",
   "execution_count": 38,
   "metadata": {},
   "outputs": [
    {
     "name": "stdout",
     "output_type": "stream",
     "text": [
      "compute 1 of 32 GBs with length 0\n",
      "new maximial number of terms in sj\n",
      "2\n",
      "compute 2 of 32 GBs with length 1\n",
      "compute 3 of 32 GBs with length 2\n",
      "compute 4 of 32 GBs with length 3\n",
      "compute 5 of 32 GBs with length 4\n",
      "compute 6 of 32 GBs with length 5\n",
      "new maximial number of terms in sj\n",
      "4\n",
      "compute 7 of 32 GBs with length 6\n",
      "compute 8 of 32 GBs with length 7\n",
      "compute 9 of 32 GBs with length 8\n",
      "new maximial number of terms in sj\n",
      "5\n",
      "compute 10 of 32 GBs with length 9\n",
      "compute 11 of 32 GBs with length 10\n",
      "compute 12 of 32 GBs with length 12\n",
      "compute 13 of 32 GBs with length 13\n",
      "compute 14 of 32 GBs with length 15\n",
      "compute 15 of 32 GBs with length 17\n",
      "compute 16 of 32 GBs with length 18\n",
      "compute 17 of 32 GBs with length 19\n",
      "new maximial number of terms in sj\n",
      "7\n",
      "compute 18 of 32 GBs with length 20\n",
      "new maximial number of terms in sj\n",
      "8\n",
      "compute 19 of 32 GBs with length 21\n",
      "compute 20 of 32 GBs with length 22\n",
      "compute 21 of 32 GBs with length 23\n",
      "compute 22 of 32 GBs with length 24\n",
      "compute 23 of 32 GBs with length 27\n",
      "compute 24 of 32 GBs with length 28\n",
      "compute 25 of 32 GBs with length 31\n",
      "compute 26 of 32 GBs with length 32\n",
      "new maximial number of terms in sj\n",
      "9\n",
      "compute 27 of 32 GBs with length 36\n",
      "compute 28 of 32 GBs with length 40\n",
      "compute 29 of 32 GBs with length 46\n",
      "compute 30 of 32 GBs with length 52\n",
      "compute 31 of 32 GBs with length 55\n"
     ]
    }
   ],
   "source": [
    "max_cand = 0\n",
    "G = [[]]+[[q[t]] for t in range(B-1)]\n",
    "s = [(rNF(q[i],G[i])) for i in range(B)]\n",
    "for j in range(1,B):\n",
    "    print(\"compute \"+str(j)+\" of \"+str(B)+\" GBs with length \"+str(len(G[j-1])))\n",
    "    G[j] = interReduce(Buchberger(G[j-1]+G[j]))\n",
    "    #save(G[j],path+\"/G\"+str(j))\n",
    "    #print(\"find better r\"+str(j))\n",
    "    len_cand = s[j].number_of_terms()\n",
    "    for i in range(j+1):\n",
    "        cand = rNF(q[j],G[i])\n",
    "        if cand.number_of_terms() <= len_cand:\n",
    "            s[j] = cand\n",
    "            len_cand = cand.number_of_terms()\n",
    "         #save(r[j],path+\"/r\"+str(j))\n",
    "    if s[j].number_of_terms() > max_cand:\n",
    "        max_cand = s[j].number_of_terms()\n",
    "        print(\"new maximial number of terms in sj\")\n",
    "        print(max_cand)"
   ]
  },
  {
   "cell_type": "code",
   "execution_count": 39,
   "metadata": {},
   "outputs": [
    {
     "name": "stdout",
     "output_type": "stream",
     "text": [
      "average number of terms in rj\n",
      "2.78125\n",
      "maximal number of terms in rj\n",
      "7\n"
     ]
    }
   ],
   "source": [
    "r = [s[j] - m[j] + m[j+B] for j in range(B)]\n",
    "print('average number of terms in rj')\n",
    "print(sum([rj.number_of_terms() for rj in r])/B)\n",
    "print('maximal number of terms in rj')\n",
    "print(max([rj.number_of_terms() for rj in r]))"
   ]
  },
  {
   "cell_type": "code",
   "execution_count": 84,
   "metadata": {},
   "outputs": [
    {
     "name": "stdout",
     "output_type": "stream",
     "text": [
      "[0, 0, 0, 0, 0, 0, 2, 2, 2, 3, 3, 2, 2, 2, 2, 2, 3, 5, 6, 3, 6, 2, 6, 5, 5, 5, 7, 5, 2, 2, 3, 2]\n"
     ]
    }
   ],
   "source": [
    "# table SM4\n",
    "print([rj.number_of_terms() for rj in r])"
   ]
  },
  {
   "cell_type": "code",
   "execution_count": 55,
   "metadata": {},
   "outputs": [
    {
     "data": {
      "text/plain": [
       "['0',\n",
       " '0',\n",
       " '0',\n",
       " '0',\n",
       " '0',\n",
       " '0',\n",
       " '1/12*C1*C2*M1 - 1/12*C1^2*M2',\n",
       " '1/12*C1*C3*M1 - 1/12*C1^2*M3',\n",
       " '-1/12*C2^2*M1 + 1/12*C1*C2*M2',\n",
       " '-1/12*C2*C3*M1 + 1/6*C1*C3*M2 - 1/12*C1*C2*M3',\n",
       " '-1/6*C2*C3*M1 + 1/12*C1*C3*M2 + 1/12*C1*C2*M3',\n",
       " '-1/12*C3^2*M1 + 1/12*C1*C3*M3',\n",
       " '1/12*C2*C3*M2 - 1/12*C2^2*M3',\n",
       " '-1/12*C3^2*M2 + 1/12*C2*C3*M3',\n",
       " '1/12*C1*C4*M1 - 1/12*C1^2*M4',\n",
       " '1/12*C1*C5*M1 - 1/12*C1^2*M5',\n",
       " '-1/12*C2*C4*M1 - 1/12*C1*C4*M2 + 1/6*C1*C2*M4',\n",
       " '-1/12*C3*C4*M1 + 1/12*C1*C6*M1 - 1/12*C1*C4*M3 + 1/6*C1*C3*M4 - 1/12*C1^2*M6',\n",
       " '-1/12*C3*C4*M1 - 1/12*C2*C5*M1 - 1/12*C1*C5*M2 - 1/12*C1*C4*M3 + 1/6*C1*C3*M4 + 1/6*C1*C2*M5',\n",
       " '-1/12*C3*C5*M1 - 1/12*C1*C5*M3 + 1/6*C1*C3*M5',\n",
       " '1/6*C3*C4*M1 - 1/6*C2*C5*M1 + 1/12*C1*C5*M2 - 1/12*C1*C4*M3 - 1/12*C1*C3*M4 + 1/12*C1*C2*M5',\n",
       " '1/12*C2*C4*M2 - 1/12*C2^2*M4',\n",
       " '-1/12*C2*C6*M1 + 1/6*C3*C4*M2 + 1/6*C1*C6*M2 - 1/12*C2*C4*M3 - 1/12*C2*C3*M4 - 1/12*C1*C2*M6',\n",
       " '-1/6*C2*C6*M1 + 1/4*C3*C4*M2 + 1/12*C1*C6*M2 - 1/4*C2*C3*M4 + 1/12*C1*C2*M6',\n",
       " '-1/12*C3*C6*M1 + 1/12*C3*C4*M3 - 1/12*C1*C6*M3 - 1/12*C3^2*M4 + 1/6*C1*C3*M6',\n",
       " '1/12*C3*C4*M2 + 1/12*C2*C5*M2 + 1/12*C2*C4*M3 - 1/6*C2*C3*M4 - 1/12*C2^2*M5',\n",
       " '1/6*C3*C5*M2 - 1/12*C2*C5*M3 + 1/4*C1*C6*M3 - 1/12*C2*C3*M5 - 1/4*C1*C3*M6 - 2*C25 + 2*M25',\n",
       " '1/12*C3*C5*M2 + 1/12*C3*C4*M3 + 1/12*C2*C5*M3 - 1/12*C3^2*M4 - 1/6*C2*C3*M5',\n",
       " '1/12*C3*C5*M3 - 1/12*C3^2*M5',\n",
       " '1/12*C2*C6*M2 - 1/12*C2^2*M6',\n",
       " '-1/12*C3*C6*M2 - 1/12*C2*C6*M3 + 1/6*C2*C3*M6',\n",
       " '1/12*C3*C6*M3 - 1/12*C3^2*M6']"
      ]
     },
     "execution_count": 55,
     "metadata": {},
     "output_type": "execute_result"
    }
   ],
   "source": [
    "[poly2human(rj) for rj in r]"
   ]
  },
  {
   "cell_type": "code",
   "execution_count": 71,
   "metadata": {},
   "outputs": [
    {
     "name": "stdout",
     "output_type": "stream",
     "text": [
      "0.0021600723266601562\n",
      "[0.51663156 0.48501628 0.50123477 0.48988337 0.48999265 0.50465917\n",
      " 0.49185825 0.46765018 0.50871959 0.50144199 0.51199485 0.50489064\n",
      " 0.48136614 0.50799463 0.50233855 0.49754174 0.49095934 0.504977\n",
      " 0.49320371 0.49524966 0.49669865 0.50286385 0.50182596 0.50686711\n",
      " 0.48353729 0.49164931 0.49628444 0.48618765 0.48806226 0.49467334\n",
      " 0.51620002 0.50371778]\n",
      "0.004094362258911133\n",
      "[0.51663156 0.48501628 0.50123477 0.48988337 0.48999265 0.50465917\n",
      " 0.49185825 0.46765018 0.50871959 0.50144199 0.51199485 0.50489064\n",
      " 0.48136614 0.50799463 0.50233855 0.49754174 0.49095934 0.504977\n",
      " 0.49320371 0.49524966 0.49669865 0.50286385 0.50182596 0.50686711\n",
      " 0.48353729 0.49164931 0.49628444 0.48618765 0.48806226 0.49467334\n",
      " 0.51620002 0.50371778]\n",
      "0.009208440780639648\n",
      "[0.51663156 0.48501628 0.50123477 0.48988337 0.48999265 0.50465917\n",
      " 0.49185825 0.46765018 0.50871959 0.50144199 0.51199485 0.50489064\n",
      " 0.48136614 0.50799463 0.50233855 0.49754174 0.49095934 0.504977\n",
      " 0.49320371 0.49524966 0.49669865 0.50286385 0.50182596 0.50686711\n",
      " 0.48353729 0.49164931 0.49628444 0.48618765 0.48806226 0.49467334\n",
      " 0.51620002 0.50371778]\n"
     ]
    }
   ],
   "source": [
    "######## numeric tests ###########\n",
    "logSXn2 = LieAlg.from_vector(vector(R, m[:B]))\n",
    "y2 = LieAlg.from_vector(vector(R, m[B:]))\n",
    "S2 = sum([Z for Z in bch_iterator(y2, logSXn2)])\n",
    "p = S2.monomial_coefficients()\n",
    "p = list(p.values())                # derive polynomials p_j\n",
    "for i in range(len(p)):\n",
    "    p[i] -= m[i]\n",
    "    p[i] -= m[i+B] \n",
    "    \n",
    "logSXn = LieAlg.from_vector(vector(R, m[:B]))\n",
    "y = -LieAlg.from_vector(vector(R, m[B:]))\n",
    "S = sum([Z for Z in bch_iterator(y, logSXn)])\n",
    "q = S.monomial_coefficients()\n",
    "q = list(q.values())                # derive polynomials q_j\n",
    "for i in range(len(q)):\n",
    "    q[i] -= m[i]\n",
    "    q[i] += m[i+B] \n",
    "    \n",
    "r_npEx = [poly2pythonEx(rj) for rj in r]\n",
    "p_npEx = [poly2pythonEx(pj) for pj in p]\n",
    "via_q_npEx = [poly2pythonEx(qj) for qj in q]\n",
    "outp = [eval(a) for a in r_npEx]\n",
    "outp_p = [eval(a) for a in p_npEx]\n",
    "outp_via_q = [eval(a) for a in via_q_npEx]\n",
    "N = 1000\n",
    "logSX = np.random.rand(N,B)\n",
    "\n",
    "\n",
    "start_time = time.time()\n",
    "res = np.zeros(B)\n",
    "for k in range(B):\n",
    "    res[k] = np.sum(logSX[:,k]+outp[k]([logSX[:,_k] for _k in range(B) ]+list(res)))/N\n",
    "print(time.time() - start_time)\n",
    "print(res)\n",
    "\n",
    "start_time = time.time()\n",
    "res = np.zeros(B)\n",
    "for k in range(B):  # -res by purpouse, since p takes -m as an argument\n",
    "    res[k] = np.sum(logSX[:,k]+outp_p[k]([logSX[:,_k] for _k in range(B) ]+list(-res)))/N\n",
    "print(time.time() - start_time)\n",
    "print(res)\n",
    "\n",
    "start_time = time.time()\n",
    "res = np.zeros(B)\n",
    "for k in range(B):\n",
    "    res[k] = np.sum(logSX[:,k]+outp_via_q[k]([logSX[:,_k] for _k in range(B) ]+list(res)))/N\n",
    "print(time.time() - start_time)\n",
    "print(res)"
   ]
  },
  {
   "cell_type": "code",
   "execution_count": 106,
   "metadata": {},
   "outputs": [
    {
     "name": "stdout",
     "output_type": "stream",
     "text": [
      "Free Lie algebra generated by (B, C) over Rational Field\n"
     ]
    }
   ],
   "source": [
    "# Compare with antisymmetrized BCH formula\n",
    "Ltemp = LieAlgebra(QQ,['B','C'])\n",
    "print(Ltemp)\n",
    "Lyn = Ltemp.Lyndon()\n",
    "B,C = Lyn.gens()\n",
    "bch = bch_iterator(B,C)\n",
    "Stemp = Ltemp();\n",
    "for i in range(floor((L + 1)/ 2)) :\n",
    "    next(bch)\n",
    "    T3list = next(bch).list()\n",
    "    Stemp  = Stemp + sum([Lyn({item[0][1]: 2*item[1]}) for item in T3list])\n",
    "\n",
    "def apply_bracket(bracket, Bsub, Csub, Liealg) :\n",
    "    if (str(bracket) == 'B'): return Bsub\n",
    "    if (str(bracket) == 'C'): return Csub\n",
    "    return Liealg.bracket(apply_bracket(bracket[0], Bsub,Csub, Liealg), apply_bracket(bracket[1], Bsub,Csub, Liealg))\n",
    "\n",
    "Snew = sum([item[1] * (apply_bracket(item[0],y,logSXn,LieAlg)) for item in Stemp.list()])\n",
    "SvalNew = list(Snew.monomial_coefficients().values())"
   ]
  },
  {
   "cell_type": "code",
   "execution_count": 107,
   "metadata": {},
   "outputs": [
    {
     "data": {
      "text/plain": [
       "[0,\n",
       " 0,\n",
       " 0,\n",
       " 0,\n",
       " 0,\n",
       " 0,\n",
       " 2,\n",
       " 2,\n",
       " 2,\n",
       " 3,\n",
       " 3,\n",
       " 2,\n",
       " 2,\n",
       " 2,\n",
       " 2,\n",
       " 2,\n",
       " 3,\n",
       " 5,\n",
       " 6,\n",
       " 3,\n",
       " 6,\n",
       " 2,\n",
       " 6,\n",
       " 5,\n",
       " 5,\n",
       " 5,\n",
       " 8,\n",
       " 5,\n",
       " 2,\n",
       " 2,\n",
       " 3,\n",
       " 2]"
      ]
     },
     "execution_count": 107,
     "metadata": {},
     "output_type": "execute_result"
    }
   ],
   "source": [
    "[qj.number_of_terms() -1 for qj in SvalNew]"
   ]
  }
 ],
 "metadata": {
  "kernelspec": {
   "display_name": "SageMath 9.3",
   "language": "sage",
   "name": "sagemath"
  },
  "language_info": {
   "codemirror_mode": {
    "name": "ipython",
    "version": 3
   },
   "file_extension": ".py",
   "mimetype": "text/x-python",
   "name": "python",
   "nbconvert_exporter": "python",
   "pygments_lexer": "ipython3",
   "version": "3.7.10"
  }
 },
 "nbformat": 4,
 "nbformat_minor": 4
}
